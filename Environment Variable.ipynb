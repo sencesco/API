{
 "cells": [
  {
   "cell_type": "markdown",
   "id": "92c7acb0-5d9b-4ba0-bda7-6ed3043270ab",
   "metadata": {},
   "source": [
    "**Environment  Variable**\n",
    "\n",
    "An environment variable is a dynamic value that can affect how processes or programs behave on a computer system. These variables are part of the operating system's environment and can store various types of information, such as configuration settings, system paths, or temporary data. They are often used to provide essential information to applications, scripts, and system processes, helping them adapt to different situations or environments.\n",
    "\n",
    "Environment variables have names and corresponding values. These names are usually uppercase and words are separated by underscores. They are referenced by programs to access the associated values, which can be strings, numbers, or even more complex data structures.\n",
    "\n",
    "Some common use cases for environment variables include:\n",
    "\n",
    "1.System Configuration: Environment variables are often used to store configuration settings for the operating system or applications. For example, an environment variable might store the default language or timezone.\n",
    "\n",
    "2.Path Variables: They can include directories that are used to search for executable files. This allows you to run commands from the command line without specifying the full path to the executable.\n",
    "\n",
    "3.Authentication and Credentials: Environment variables can store sensitive information like API keys, passwords, and access tokens, making it easier to manage and secure such data.\n",
    "\n",
    "4.Customization: Developers and users can set environment variables to customize the behavior of applications or scripts without modifying their source code.\n",
    "\n",
    "5.Runtime Information: Some environment variables provide runtime information to programs, such as the process ID or the number of CPU cores available.\n",
    "\n",
    "6.Debugging: Environment variables can aid in debugging by providing additional information about the system's state or the program's behavior.\n",
    "\n",
    "Environment variables can be set at different levels:\n",
    "\n",
    "System-wide: These are available to all users and processes on the system.\n",
    "User-specific: These are specific to a particular user and affect only their processes.\n",
    "Session-specific: These are temporary variables that are set for the duration of a session or a specific terminal session.\n",
    "On Unix-like systems (including Linux and macOS), you can use the export command to set environment variables in the current session. On Windows, you can use the set command."
   ]
  },
  {
   "cell_type": "markdown",
   "id": "844c04a4-3425-49ab-85b5-f8b278249fd3",
   "metadata": {},
   "source": [
    "Can define on bash console by"
   ]
  },
  {
   "cell_type": "code",
   "execution_count": null,
   "id": "91a2606b-bded-4517-b6b7-40767cc98dd3",
   "metadata": {},
   "outputs": [],
   "source": [
    "export MY_VARIABLE=Hello, World!"
   ]
  },
  {
   "cell_type": "raw",
   "id": "c57eddf6-4de3-412c-973a-772141640bf2",
   "metadata": {},
   "source": [
    "# and call env in bash console for checck env variable already store\n",
    "$bash:env "
   ]
  },
  {
   "cell_type": "code",
   "execution_count": null,
   "id": "234df9bf-c364-4322-870d-d3d673a5fa75",
   "metadata": {},
   "outputs": [],
   "source": [
    "# when call we need to import os path\n",
    "import os\n",
    "var = os.environ.get(\"MY_VARIABLE\")"
   ]
  },
  {
   "cell_type": "markdown",
   "id": "0905b4a6-1458-4e6c-8e94-bda77b912858",
   "metadata": {},
   "source": [
    "> Be carful id you use public environment, will can not keep an app  password,  API key or etc, that want to keep in a secret,\n",
    "But if a superuser env it have a private and can safe them."
   ]
  },
  {
   "cell_type": "code",
   "execution_count": null,
   "id": "de5af5b7-0786-4b20-b7c9-7b901c79ef93",
   "metadata": {},
   "outputs": [],
   "source": []
  }
 ],
 "metadata": {
  "kernelspec": {
   "display_name": "Python 3 (ipykernel)",
   "language": "python",
   "name": "python3"
  },
  "language_info": {
   "codemirror_mode": {
    "name": "ipython",
    "version": 3
   },
   "file_extension": ".py",
   "mimetype": "text/x-python",
   "name": "python",
   "nbconvert_exporter": "python",
   "pygments_lexer": "ipython3",
   "version": "3.11.3"
  }
 },
 "nbformat": 4,
 "nbformat_minor": 5
}
